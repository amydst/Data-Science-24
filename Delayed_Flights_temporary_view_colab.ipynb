{
  "cells": [
    {
      "cell_type": "markdown",
      "metadata": {
        "id": "view-in-github",
        "colab_type": "text"
      },
      "source": [
        "<a href=\"https://colab.research.google.com/github/amydst/Data-Science-24/blob/main/Delayed_Flights_temporary_view_colab.ipynb\" target=\"_parent\"><img src=\"https://colab.research.google.com/assets/colab-badge.svg\" alt=\"Open In Colab\"/></a>"
      ]
    },
    {
      "cell_type": "code",
      "execution_count": 1,
      "metadata": {
        "colab": {
          "base_uri": "https://localhost:8080/"
        },
        "id": "quc4esHQ3Cqs",
        "outputId": "66254535-7e3c-4da6-b44a-114f25bcb15e"
      },
      "outputs": [
        {
          "output_type": "stream",
          "name": "stdout",
          "text": [
            "\r0% [Working]\r            \rGet:1 https://cloud.r-project.org/bin/linux/ubuntu jammy-cran40/ InRelease [3,626 B]\n",
            "Hit:2 https://developer.download.nvidia.com/compute/cuda/repos/ubuntu2204/x86_64  InRelease\n",
            "Get:3 https://r2u.stat.illinois.edu/ubuntu jammy InRelease [6,555 B]\n",
            "Get:4 http://security.ubuntu.com/ubuntu jammy-security InRelease [129 kB]\n",
            "Hit:5 http://archive.ubuntu.com/ubuntu jammy InRelease\n",
            "Get:6 http://archive.ubuntu.com/ubuntu jammy-updates InRelease [128 kB]\n",
            "Get:7 https://cloud.r-project.org/bin/linux/ubuntu jammy-cran40/ Packages [61.9 kB]\n",
            "Hit:8 https://ppa.launchpadcontent.net/deadsnakes/ppa/ubuntu jammy InRelease\n",
            "Get:9 https://ppa.launchpadcontent.net/graphics-drivers/ppa/ubuntu jammy InRelease [24.3 kB]\n",
            "Get:10 https://r2u.stat.illinois.edu/ubuntu jammy/main all Packages [8,590 kB]\n",
            "Get:11 http://archive.ubuntu.com/ubuntu jammy-backports InRelease [127 kB]\n",
            "Hit:12 https://ppa.launchpadcontent.net/ubuntugis/ppa/ubuntu jammy InRelease\n",
            "Get:13 https://r2u.stat.illinois.edu/ubuntu jammy/main amd64 Packages [2,642 kB]\n",
            "Get:14 http://security.ubuntu.com/ubuntu jammy-security/multiverse amd64 Packages [45.2 kB]\n",
            "Get:15 http://security.ubuntu.com/ubuntu jammy-security/restricted amd64 Packages [3,527 kB]\n",
            "Get:16 http://security.ubuntu.com/ubuntu jammy-security/main amd64 Packages [2,560 kB]\n",
            "Get:17 http://security.ubuntu.com/ubuntu jammy-security/universe amd64 Packages [1,227 kB]\n",
            "Get:18 http://archive.ubuntu.com/ubuntu jammy-updates/universe amd64 Packages [1,518 kB]\n",
            "Get:19 http://archive.ubuntu.com/ubuntu jammy-updates/main amd64 Packages [2,859 kB]\n",
            "Get:20 http://archive.ubuntu.com/ubuntu jammy-updates/restricted amd64 Packages [3,663 kB]\n",
            "Fetched 27.1 MB in 9s (3,083 kB/s)\n",
            "Reading package lists... Done\n",
            "W: Skipping acquire of configured file 'main/source/Sources' as repository 'https://r2u.stat.illinois.edu/ubuntu jammy InRelease' does not seem to provide it (sources.list entry misspelt?)\n"
          ]
        }
      ],
      "source": [
        "import os\n",
        "# Find the latest version of spark 3.x  from https://downloads.apache.org/spark/ and enter as the spark version\n",
        "# For example:\n",
        "# spark_version = 'spark-3.5.1'\n",
        "spark_version = 'spark-3.5.4'\n",
        "os.environ['SPARK_VERSION']=spark_version\n",
        "\n",
        "# Install Spark and Java\n",
        "!apt-get update\n",
        "!apt-get install openjdk-11-jdk-headless -qq > /dev/null\n",
        "!wget -q https://downloads.apache.org/spark/$SPARK_VERSION/$SPARK_VERSION-bin-hadoop3.tgz\n",
        "!tar xf $SPARK_VERSION-bin-hadoop3.tgz\n",
        "!pip install -q findspark\n",
        "\n",
        "# Set Environment Variables\n",
        "os.environ[\"JAVA_HOME\"] = \"/usr/lib/jvm/java-11-openjdk-amd64\"\n",
        "os.environ[\"SPARK_HOME\"] = f\"/content/{spark_version}-bin-hadoop3\"\n",
        "\n",
        "# Start a SparkSession\n",
        "import findspark\n",
        "findspark.init()\n"
      ]
    },
    {
      "cell_type": "code",
      "execution_count": 2,
      "metadata": {
        "id": "5AOTB6WJ3OP3"
      },
      "outputs": [],
      "source": [
        "# Start Spark session\n",
        "from pyspark.sql import SparkSession\n",
        "spark = SparkSession.builder.appName(\"DelayedFlightsView\").getOrCreate()\n"
      ]
    },
    {
      "cell_type": "code",
      "execution_count": 3,
      "metadata": {
        "colab": {
          "base_uri": "https://localhost:8080/"
        },
        "id": "83jgwDv73h3R",
        "outputId": "d9f41a56-1ec8-40ef-adb9-e119d9cf40c3"
      },
      "outputs": [
        {
          "output_type": "stream",
          "name": "stdout",
          "text": [
            "+---+----+-----+----------+---------+-------+----------+-------+----------+-------------+---------+-------+-----------------+--------------+-------+--------+--------+------+----+--------+------+-------+---------+----------------+--------+------------+------------+--------+-------------+-----------------+\n",
            "| id|Year|Month|DayofMonth|DayOfWeek|DepTime|CRSDepTime|ArrTime|CRSArrTime|UniqueCarrier|FlightNum|TailNum|ActualElapsedTime|CRSElapsedTime|AirTime|ArrDelay|DepDelay|Origin|Dest|Distance|TaxiIn|TaxiOut|Cancelled|CancellationCode|Diverted|CarrierDelay|WeatherDelay|NASDelay|SecurityDelay|LateAircraftDelay|\n",
            "+---+----+-----+----------+---------+-------+----------+-------+----------+-------------+---------+-------+-----------------+--------------+-------+--------+--------+------+----+--------+------+-------+---------+----------------+--------+------------+------------+--------+-------------+-----------------+\n",
            "|  0|2008|    1|         3|        4|   2003|      1955|   2211|      2225|           WN|      335| N712SW|              128|           150|    116|     -14|       8|   IAD| TPA|     810|     4|      8|        0|               N|       0|        NULL|        NULL|    NULL|         NULL|             NULL|\n",
            "|  1|2008|    1|         3|        4|    754|       735|   1002|      1000|           WN|     3231| N772SW|              128|           145|    113|       2|      19|   IAD| TPA|     810|     5|     10|        0|               N|       0|        NULL|        NULL|    NULL|         NULL|             NULL|\n",
            "|  2|2008|    1|         3|        4|    628|       620|    804|       750|           WN|      448| N428WN|               96|            90|     76|      14|       8|   IND| BWI|     515|     3|     17|        0|               N|       0|        NULL|        NULL|    NULL|         NULL|             NULL|\n",
            "|  4|2008|    1|         3|        4|   1829|      1755|   1959|      1925|           WN|     3920| N464WN|               90|            90|     77|      34|      34|   IND| BWI|     515|     3|     10|        0|               N|       0|           2|           0|       0|            0|               32|\n",
            "|  5|2008|    1|         3|        4|   1940|      1915|   2121|      2110|           WN|      378| N726SW|              101|           115|     87|      11|      25|   IND| JAX|     688|     4|     10|        0|               N|       0|        NULL|        NULL|    NULL|         NULL|             NULL|\n",
            "|  6|2008|    1|         3|        4|   1937|      1830|   2037|      1940|           WN|      509| N763SW|              240|           250|    230|      57|      67|   IND| LAS|    1591|     3|      7|        0|               N|       0|          10|           0|       0|            0|               47|\n",
            "| 10|2008|    1|         3|        4|    706|       700|    916|       915|           WN|      100| N690SW|              130|           135|    106|       1|       6|   IND| MCO|     828|     5|     19|        0|               N|       0|        NULL|        NULL|    NULL|         NULL|             NULL|\n",
            "| 11|2008|    1|         3|        4|   1644|      1510|   1845|      1725|           WN|     1333| N334SW|              121|           135|    107|      80|      94|   IND| MCO|     828|     6|      8|        0|               N|       0|           8|           0|       0|            0|               72|\n",
            "| 15|2008|    1|         3|        4|   1029|      1020|   1021|      1010|           WN|     2272| N263WN|               52|            50|     37|      11|       9|   IND| MDW|     162|     6|      9|        0|               N|       0|        NULL|        NULL|    NULL|         NULL|             NULL|\n",
            "| 16|2008|    1|         3|        4|   1452|      1425|   1640|      1625|           WN|      675| N286WN|              228|           240|    213|      15|      27|   IND| PHX|    1489|     7|      8|        0|               N|       0|           3|           0|       0|            0|               12|\n",
            "| 17|2008|    1|         3|        4|    754|       745|    940|       955|           WN|     1144| N778SW|              226|           250|    205|     -15|       9|   IND| PHX|    1489|     5|     16|        0|               N|       0|        NULL|        NULL|    NULL|         NULL|             NULL|\n",
            "| 18|2008|    1|         3|        4|   1323|      1255|   1526|      1510|           WN|        4| N674AA|              123|           135|    110|      16|      28|   IND| TPA|     838|     4|      9|        0|               N|       0|           0|           0|       0|            0|               16|\n",
            "| 19|2008|    1|         3|        4|   1416|      1325|   1512|      1435|           WN|       54| N643SW|               56|            70|     49|      37|      51|   ISP| BWI|     220|     2|      5|        0|               N|       0|          12|           0|       0|            0|               25|\n",
            "| 21|2008|    1|         3|        4|   1657|      1625|   1754|      1735|           WN|      623| N724SW|               57|            70|     47|      19|      32|   ISP| BWI|     220|     5|      5|        0|               N|       0|           7|           0|       0|            0|               12|\n",
            "| 22|2008|    1|         3|        4|   1900|      1840|   1956|      1950|           WN|      717| N786SW|               56|            70|     49|       6|      20|   ISP| BWI|     220|     2|      5|        0|               N|       0|        NULL|        NULL|    NULL|         NULL|             NULL|\n",
            "| 23|2008|    1|         3|        4|   1039|      1030|   1133|      1140|           WN|     1244| N714CB|               54|            70|     47|      -7|       9|   ISP| BWI|     220|     2|      5|        0|               N|       0|        NULL|        NULL|    NULL|         NULL|             NULL|\n",
            "| 25|2008|    1|         3|        4|   1520|      1455|   1619|      1605|           WN|     2553| N394SW|               59|            70|     50|      14|      25|   ISP| BWI|     220|     2|      7|        0|               N|       0|        NULL|        NULL|    NULL|         NULL|             NULL|\n",
            "| 26|2008|    1|         3|        4|   1422|      1255|   1657|      1610|           WN|      188| N215WN|              155|           195|    143|      47|      87|   ISP| FLL|    1093|     6|      6|        0|               N|       0|          40|           0|       0|            0|                7|\n",
            "| 27|2008|    1|         3|        4|   1954|      1925|   2239|      2235|           WN|     1754| N243WN|              165|           190|    155|       4|      29|   ISP| FLL|    1093|     3|      7|        0|               N|       0|        NULL|        NULL|    NULL|         NULL|             NULL|\n",
            "| 30|2008|    1|         3|        4|   2107|      1945|   2334|      2230|           WN|      362| N798SW|              147|           165|    134|      64|      82|   ISP| MCO|     972|     6|      7|        0|               N|       0|           5|           0|       0|            0|               59|\n",
            "+---+----+-----+----------+---------+-------+----------+-------+----------+-------------+---------+-------+-----------------+--------------+-------+--------+--------+------+----+--------+------+-------+---------+----------------+--------+------------+------------+--------+-------------+-----------------+\n",
            "only showing top 20 rows\n",
            "\n"
          ]
        }
      ],
      "source": [
        "from pyspark import SparkFiles\n",
        "url = \"https://2u-data-curriculum-team.s3.amazonaws.com/dataviz-classroom/v1.2/22-big-data/3/DelayedFlights.csv\"\n",
        "spark.sparkContext.addFile(url)\n",
        "delayed_flights_df = spark.read.csv(SparkFiles.get(\"DelayedFlights.csv\"), sep=\",\", header=True)\n",
        "delayed_flights_df.show()\n"
      ]
    },
    {
      "cell_type": "markdown",
      "source": [],
      "metadata": {
        "id": "trTevm5tc7Xc"
      }
    },
    {
      "cell_type": "code",
      "execution_count": 4,
      "metadata": {
        "id": "_j5nmOX23rRo"
      },
      "outputs": [],
      "source": [
        "# Create a temporary view.\n",
        "delayed_flights_df.createOrReplaceTempView('delayed_view')"
      ]
    },
    {
      "cell_type": "code",
      "execution_count": 8,
      "metadata": {
        "colab": {
          "base_uri": "https://localhost:8080/"
        },
        "id": "G8F9xBpp7Hzm",
        "outputId": "eeef375e-6d63-4aeb-9bc6-94e2c3f70508"
      },
      "outputs": [
        {
          "output_type": "stream",
          "name": "stdout",
          "text": [
            "+-------------+------+\n",
            "|UniqueCarrier|Origin|\n",
            "+-------------+------+\n",
            "|           XE|   ABQ|\n",
            "|           XE|   MCI|\n",
            "|           XE|   ABQ|\n",
            "|           XE|   MCI|\n",
            "|           XE|   CRW|\n",
            "+-------------+------+\n",
            "\n"
          ]
        }
      ],
      "source": [
        "# Get the first five airline carriers and their origin that will arrive at George Bush Intercontinental Airport (IAH) in Houston.\n",
        "# Hint: Pass in the airport code as a string.\n",
        "spark.sql(\"SELECT UniqueCarrier, Origin FROM delayed_view WHERE Dest LIKE 'IAH' LIMIT 5\").show()"
      ]
    },
    {
      "cell_type": "code",
      "execution_count": 11,
      "metadata": {
        "colab": {
          "base_uri": "https://localhost:8080/"
        },
        "id": "yG_0Nm4BA_QB",
        "outputId": "974957f1-f5b2-41f0-f464-26ee16b6d416"
      },
      "outputs": [
        {
          "output_type": "stream",
          "name": "stdout",
          "text": [
            "+-------------+------+----+\n",
            "|UniqueCarrier|Origin|Dest|\n",
            "+-------------+------+----+\n",
            "|           WN|   IAD| TPA|\n",
            "|           WN|   IAD| TPA|\n",
            "|           WN|   IND| BWI|\n",
            "|           WN|   IND| BWI|\n",
            "|           WN|   IND| JAX|\n",
            "|           WN|   IND| LAS|\n",
            "|           WN|   IND| MCO|\n",
            "|           WN|   IND| MCO|\n",
            "|           WN|   IND| MDW|\n",
            "|           WN|   IND| PHX|\n",
            "|           WN|   IND| PHX|\n",
            "|           WN|   IND| TPA|\n",
            "|           WN|   ISP| BWI|\n",
            "|           WN|   ISP| BWI|\n",
            "|           WN|   ISP| BWI|\n",
            "|           WN|   ISP| BWI|\n",
            "|           WN|   ISP| BWI|\n",
            "|           WN|   ISP| FLL|\n",
            "|           WN|   ISP| FLL|\n",
            "|           WN|   ISP| MCO|\n",
            "+-------------+------+----+\n",
            "only showing top 20 rows\n",
            "\n"
          ]
        }
      ],
      "source": [
        "# Get all the origin and destination of all the Southwest (WN) flights.\n",
        "\n",
        "spark.sql(\"SELECT UniqueCarrier, Origin, Dest FROM delayed_view WHERE UniqueCarrier LIKE 'WN'\").show()"
      ]
    },
    {
      "cell_type": "code",
      "execution_count": 13,
      "metadata": {
        "colab": {
          "base_uri": "https://localhost:8080/"
        },
        "id": "bIO1asLe79hR",
        "outputId": "42862a93-b8f6-40f4-d956-2cef6e8f08a9"
      },
      "outputs": [
        {
          "output_type": "stream",
          "name": "stdout",
          "text": [
            "+-------------+------+----+--------------+\n",
            "|UniqueCarrier|Origin|Dest|CRSElapsedTime|\n",
            "+-------------+------+----+--------------+\n",
            "|           AS|   OAK| PDX|            99|\n",
            "|           XE|   XNA| IAH|            99|\n",
            "|           AS|   SFO| PDX|            99|\n",
            "|           XE|   CLE| BNA|            99|\n",
            "|           AS|   SFO| PDX|            99|\n",
            "|           XE|   IAH| MGM|            99|\n",
            "|           AS|   SFO| PDX|            99|\n",
            "|           XE|   CLE| MHT|            99|\n",
            "|           AS|   SFO| PDX|            99|\n",
            "|           XE|   CLE| MHT|            99|\n",
            "+-------------+------+----+--------------+\n",
            "\n"
          ]
        }
      ],
      "source": [
        "# Get the carrier, the origin, the destination, and the elapsed time of the 10 flights in descending order.\n",
        "spark.sql(\"SELECT UniqueCarrier, Origin, Dest, CRSElapsedTime FROM delayed_view ORDER BY CRSElapsedTime DESC LIMIT 10\").show()"
      ]
    },
    {
      "cell_type": "code",
      "execution_count": 16,
      "metadata": {
        "colab": {
          "base_uri": "https://localhost:8080/"
        },
        "id": "khAGegwu-a6a",
        "outputId": "990caad6-653a-4bf5-a564-2e1862fbec15"
      },
      "outputs": [
        {
          "output_type": "stream",
          "name": "stdout",
          "text": [
            "+-------------+--------------+\n",
            "|UniqueCarrier|Total_Diverted|\n",
            "+-------------+--------------+\n",
            "|           WN|         739.0|\n",
            "|           AA|         469.0|\n",
            "|           MQ|         370.0|\n",
            "|           XE|         293.0|\n",
            "|           OO|         292.0|\n",
            "|           UA|         244.0|\n",
            "|           DL|         196.0|\n",
            "|           US|         189.0|\n",
            "|           FL|         179.0|\n",
            "|           9E|         155.0|\n",
            "|           NW|         145.0|\n",
            "|           YV|         130.0|\n",
            "|           CO|         130.0|\n",
            "|           AS|         125.0|\n",
            "|           OH|         104.0|\n",
            "|           B6|          97.0|\n",
            "|           F9|          29.0|\n",
            "|           AQ|           6.0|\n",
            "|           HA|           4.0|\n",
            "|           EV|           0.0|\n",
            "+-------------+--------------+\n",
            "\n"
          ]
        }
      ],
      "source": [
        "# Get the total number of diverted flights from each airline carrier, and group the results by carrier\n",
        "# Order by the total number of diverted flights in descending order.\n",
        "\n",
        "spark.sql(\"SELECT UniqueCarrier, SUM(Diverted) AS Total_Diverted FROM delayed_view GROUP BY UniqueCarrier ORDER BY Total_Diverted DESC\").show()\n"
      ]
    },
    {
      "cell_type": "code",
      "execution_count": 17,
      "metadata": {
        "colab": {
          "base_uri": "https://localhost:8080/"
        },
        "id": "3cnP1fl3S6l_",
        "outputId": "b80c8bd0-c049-4842-913b-4052c148b497"
      },
      "outputs": [
        {
          "output_type": "stream",
          "name": "stdout",
          "text": [
            "+-------------+------------------+------------------+\n",
            "|UniqueCarrier|      Avg_DepDelay|      Avg_ArrDelay|\n",
            "+-------------+------------------+------------------+\n",
            "|           UA| 50.31698812513716| 49.28722883905207|\n",
            "|           AA|   46.840312257564| 47.79455631216452|\n",
            "|           NW| 41.70838669696344| 45.91269035532995|\n",
            "|           EV| 45.39245477069796| 43.73542611378617|\n",
            "|           B6| 50.69227741822634| 49.45584295814852|\n",
            "|           DL|37.734883816069384| 38.02667789369917|\n",
            "|           OO| 45.18429695982628| 46.39657709707309|\n",
            "|           F9|  25.6334499562664|26.108155473493145|\n",
            "|           YV| 58.29157351676698| 58.51809551208285|\n",
            "|           US| 38.55870287528075| 35.11325534609939|\n",
            "|           AQ|             26.68| 21.25537634408602|\n",
            "|           MQ|  44.9969698806133| 47.34964387897973|\n",
            "|           OH| 46.26107985729967| 48.05260258881851|\n",
            "|           HA| 34.00154023873701|33.811415349016585|\n",
            "|           XE| 49.27562001311182| 49.51955145712174|\n",
            "|           AS|38.888600253730445|36.114195276357435|\n",
            "|           FL|41.083868713206634|42.621279239371184|\n",
            "|           CO|41.107583216656884| 38.92512230476535|\n",
            "|           WN| 34.08278198151185|30.125679687682634|\n",
            "|           9E| 48.38912449345019|47.996243449712736|\n",
            "+-------------+------------------+------------------+\n",
            "\n"
          ]
        }
      ],
      "source": [
        "# Get the average time for delayed departures and arrivals for each carrier.\n",
        "# Group the results by the carrier.\n",
        "\n",
        "spark.sql(\"\"\"\n",
        "    SELECT UniqueCarrier,\n",
        "           AVG(DepDelay) AS Avg_DepDelay,\n",
        "           AVG(ArrDelay) AS Avg_ArrDelay\n",
        "    FROM delayed_view\n",
        "    GROUP BY UniqueCarrier\n",
        "\"\"\").show()\n",
        "\n",
        "\n"
      ]
    }
  ],
  "metadata": {
    "colab": {
      "provenance": [],
      "include_colab_link": true
    },
    "kernelspec": {
      "display_name": "Python 3 (ipykernel)",
      "language": "python",
      "name": "python3"
    },
    "language_info": {
      "codemirror_mode": {
        "name": "ipython",
        "version": 3
      },
      "file_extension": ".py",
      "mimetype": "text/x-python",
      "name": "python",
      "nbconvert_exporter": "python",
      "pygments_lexer": "ipython3",
      "version": "3.9.15"
    }
  },
  "nbformat": 4,
  "nbformat_minor": 0
}