{
  "cells": [
    {
      "cell_type": "markdown",
      "metadata": {
        "id": "view-in-github",
        "colab_type": "text"
      },
      "source": [
        "<a href=\"https://colab.research.google.com/github/amydst/Data-Science-24/blob/main/Olympic_analysis_colab.ipynb\" target=\"_parent\"><img src=\"https://colab.research.google.com/assets/colab-badge.svg\" alt=\"Open In Colab\"/></a>"
      ]
    },
    {
      "cell_type": "code",
      "execution_count": 1,
      "metadata": {
        "colab": {
          "base_uri": "https://localhost:8080/"
        },
        "id": "sw2Jr5lXFWIH",
        "outputId": "e709c7aa-5aac-4edf-b44d-51b6bbc901e0"
      },
      "outputs": [
        {
          "output_type": "stream",
          "name": "stdout",
          "text": [
            "\r0% [Working]\r            \rHit:1 https://developer.download.nvidia.com/compute/cuda/repos/ubuntu2204/x86_64  InRelease\n",
            "Get:2 https://cloud.r-project.org/bin/linux/ubuntu jammy-cran40/ InRelease [3,626 B]\n",
            "Get:3 https://cloud.r-project.org/bin/linux/ubuntu jammy-cran40/ Packages [61.9 kB]\n",
            "Hit:4 http://archive.ubuntu.com/ubuntu jammy InRelease\n",
            "Get:5 http://archive.ubuntu.com/ubuntu jammy-updates InRelease [128 kB]\n",
            "Get:6 http://security.ubuntu.com/ubuntu jammy-security InRelease [129 kB]\n",
            "Get:7 https://r2u.stat.illinois.edu/ubuntu jammy InRelease [6,555 B]\n",
            "Hit:8 https://ppa.launchpadcontent.net/deadsnakes/ppa/ubuntu jammy InRelease\n",
            "Get:9 https://r2u.stat.illinois.edu/ubuntu jammy/main all Packages [8,590 kB]\n",
            "Get:10 https://ppa.launchpadcontent.net/graphics-drivers/ppa/ubuntu jammy InRelease [24.3 kB]\n",
            "Get:11 http://archive.ubuntu.com/ubuntu jammy-backports InRelease [127 kB]\n",
            "Hit:12 https://ppa.launchpadcontent.net/ubuntugis/ppa/ubuntu jammy InRelease\n",
            "Get:13 http://archive.ubuntu.com/ubuntu jammy-updates/restricted amd64 Packages [3,663 kB]\n",
            "Get:14 http://security.ubuntu.com/ubuntu jammy-security/universe amd64 Packages [1,227 kB]\n",
            "Get:15 http://archive.ubuntu.com/ubuntu jammy-updates/universe amd64 Packages [1,518 kB]\n",
            "Get:16 http://archive.ubuntu.com/ubuntu jammy-updates/main amd64 Packages [2,859 kB]\n",
            "Get:17 http://security.ubuntu.com/ubuntu jammy-security/restricted amd64 Packages [3,527 kB]\n",
            "Get:18 https://r2u.stat.illinois.edu/ubuntu jammy/main amd64 Packages [2,642 kB]\n",
            "Get:19 http://security.ubuntu.com/ubuntu jammy-security/multiverse amd64 Packages [45.2 kB]\n",
            "Get:20 http://security.ubuntu.com/ubuntu jammy-security/main amd64 Packages [2,560 kB]\n",
            "Fetched 27.1 MB in 7s (3,883 kB/s)\n",
            "Reading package lists... Done\n",
            "W: Skipping acquire of configured file 'main/source/Sources' as repository 'https://r2u.stat.illinois.edu/ubuntu jammy InRelease' does not seem to provide it (sources.list entry misspelt?)\n"
          ]
        }
      ],
      "source": [
        "import os\n",
        "# Find the latest version of spark 3.x  from https://downloads.apache.org/spark/ and enter as the spark version\n",
        "# For example:\n",
        "# spark_version = 'spark-3.5.1'\n",
        "spark_version = 'spark-3.5.4'\n",
        "os.environ['SPARK_VERSION']=spark_version\n",
        "\n",
        "# Install Spark and Java\n",
        "!apt-get update\n",
        "!apt-get install openjdk-11-jdk-headless -qq > /dev/null\n",
        "!wget -q https://downloads.apache.org/spark/$SPARK_VERSION/$SPARK_VERSION-bin-hadoop3.tgz\n",
        "!tar xf $SPARK_VERSION-bin-hadoop3.tgz\n",
        "!pip install -q findspark\n",
        "\n",
        "# Set Environment Variables\n",
        "os.environ[\"JAVA_HOME\"] = \"/usr/lib/jvm/java-11-openjdk-amd64\"\n",
        "os.environ[\"SPARK_HOME\"] = f\"/content/{spark_version}-bin-hadoop3\"\n",
        "\n",
        "# Start a SparkSession\n",
        "import findspark\n",
        "findspark.init()\n"
      ]
    },
    {
      "cell_type": "code",
      "execution_count": 2,
      "metadata": {
        "id": "YPVEwydNFZss"
      },
      "outputs": [],
      "source": [
        "# Import packages\n",
        "from pyspark.sql import SparkSession\n",
        "from pyspark.sql import Row\n",
        "from pyspark.sql.types import StructType,StructField,StringType, DateType,IntegerType\n",
        "\n",
        "# Create a SparkSession\n",
        "spark = SparkSession.builder.appName(\"SparkSQL\").getOrCreate()\n"
      ]
    },
    {
      "cell_type": "code",
      "execution_count": 10,
      "metadata": {
        "colab": {
          "base_uri": "https://localhost:8080/"
        },
        "id": "QNnoYbEqFh6W",
        "outputId": "c599d6a0-94a3-44f6-a2e2-14fc29e8c129"
      },
      "outputs": [
        {
          "output_type": "stream",
          "name": "stdout",
          "text": [
            "+---+--------------------+---+---+------+------+--------------+---+-----------+----+------+-----------+--------------------+--------------------+-----+\n",
            "| ID|                Name|Sex|Age|Height|Weight|          Team|NOC|      Games|Year|Season|       City|               Sport|               Event|Medal|\n",
            "+---+--------------------+---+---+------+------+--------------+---+-----------+----+------+-----------+--------------------+--------------------+-----+\n",
            "|  1|           A Dijiang|  M| 24|   180|    80|         China|CHN|1992 Summer|1992|Summer|  Barcelona|          Basketball|Basketball Men's ...|   NA|\n",
            "|  2|            A Lamusi|  M| 23|   170|    60|         China|CHN|2012 Summer|2012|Summer|     London|                Judo|Judo Men's Extra-...|   NA|\n",
            "|  3| Gunnar Nielsen Aaby|  M| 24|    NA|    NA|       Denmark|DEN|1920 Summer|1920|Summer|  Antwerpen|            Football|Football Men's Fo...|   NA|\n",
            "|  4|Edgar Lindenau Aabye|  M| 34|    NA|    NA|Denmark/Sweden|DEN|1900 Summer|1900|Summer|      Paris|          Tug-Of-War|Tug-Of-War Men's ...| Gold|\n",
            "|  5|Christine Jacoba ...|  F| 21|   185|    82|   Netherlands|NED|1988 Winter|1988|Winter|    Calgary|       Speed Skating|Speed Skating Wom...|   NA|\n",
            "|  5|Christine Jacoba ...|  F| 21|   185|    82|   Netherlands|NED|1988 Winter|1988|Winter|    Calgary|       Speed Skating|Speed Skating Wom...|   NA|\n",
            "|  5|Christine Jacoba ...|  F| 25|   185|    82|   Netherlands|NED|1992 Winter|1992|Winter|Albertville|       Speed Skating|Speed Skating Wom...|   NA|\n",
            "|  5|Christine Jacoba ...|  F| 25|   185|    82|   Netherlands|NED|1992 Winter|1992|Winter|Albertville|       Speed Skating|Speed Skating Wom...|   NA|\n",
            "|  5|Christine Jacoba ...|  F| 27|   185|    82|   Netherlands|NED|1994 Winter|1994|Winter|Lillehammer|       Speed Skating|Speed Skating Wom...|   NA|\n",
            "|  5|Christine Jacoba ...|  F| 27|   185|    82|   Netherlands|NED|1994 Winter|1994|Winter|Lillehammer|       Speed Skating|Speed Skating Wom...|   NA|\n",
            "|  6|     Per Knut Aaland|  M| 31|   188|    75| United States|USA|1992 Winter|1992|Winter|Albertville|Cross Country Skiing|Cross Country Ski...|   NA|\n",
            "|  6|     Per Knut Aaland|  M| 31|   188|    75| United States|USA|1992 Winter|1992|Winter|Albertville|Cross Country Skiing|Cross Country Ski...|   NA|\n",
            "|  6|     Per Knut Aaland|  M| 31|   188|    75| United States|USA|1992 Winter|1992|Winter|Albertville|Cross Country Skiing|Cross Country Ski...|   NA|\n",
            "|  6|     Per Knut Aaland|  M| 31|   188|    75| United States|USA|1992 Winter|1992|Winter|Albertville|Cross Country Skiing|Cross Country Ski...|   NA|\n",
            "|  6|     Per Knut Aaland|  M| 33|   188|    75| United States|USA|1994 Winter|1994|Winter|Lillehammer|Cross Country Skiing|Cross Country Ski...|   NA|\n",
            "|  6|     Per Knut Aaland|  M| 33|   188|    75| United States|USA|1994 Winter|1994|Winter|Lillehammer|Cross Country Skiing|Cross Country Ski...|   NA|\n",
            "|  6|     Per Knut Aaland|  M| 33|   188|    75| United States|USA|1994 Winter|1994|Winter|Lillehammer|Cross Country Skiing|Cross Country Ski...|   NA|\n",
            "|  6|     Per Knut Aaland|  M| 33|   188|    75| United States|USA|1994 Winter|1994|Winter|Lillehammer|Cross Country Skiing|Cross Country Ski...|   NA|\n",
            "|  7|        John Aalberg|  M| 31|   183|    72| United States|USA|1992 Winter|1992|Winter|Albertville|Cross Country Skiing|Cross Country Ski...|   NA|\n",
            "|  7|        John Aalberg|  M| 31|   183|    72| United States|USA|1992 Winter|1992|Winter|Albertville|Cross Country Skiing|Cross Country Ski...|   NA|\n",
            "+---+--------------------+---+---+------+------+--------------+---+-----------+----+------+-----------+--------------------+--------------------+-----+\n",
            "only showing top 20 rows\n",
            "\n"
          ]
        }
      ],
      "source": [
        "# Read in data from S3 Buckets\n",
        "from pyspark import SparkFiles\n",
        "url = \"https://2u-data-curriculum-team.s3.amazonaws.com/dataviz-classroom/v1.2/22-big-data/2/athlete_events.csv\"\n",
        "spark.sparkContext.addFile(url)\n",
        "df = spark.read.csv(SparkFiles.get(\"athlete_events.csv\"), header=True, inferSchema=True, quote=\"\\\"\", escape=\"\\\"\")\n",
        "\n",
        "# Show DataFrame\n",
        "df.show()\n",
        "\n",
        "\n"
      ]
    },
    {
      "cell_type": "code",
      "source": [
        "\n",
        "df.printSchema()"
      ],
      "metadata": {
        "colab": {
          "base_uri": "https://localhost:8080/"
        },
        "id": "p8oS_jkPfHt1",
        "outputId": "4f8feb9f-06e7-47c2-9a2f-3cd28a00e071"
      },
      "execution_count": 7,
      "outputs": [
        {
          "output_type": "stream",
          "name": "stdout",
          "text": [
            "root\n",
            " |-- ID: integer (nullable = true)\n",
            " |-- Name: string (nullable = true)\n",
            " |-- Sex: string (nullable = true)\n",
            " |-- Age: string (nullable = true)\n",
            " |-- Height: string (nullable = true)\n",
            " |-- Weight: string (nullable = true)\n",
            " |-- Team: string (nullable = true)\n",
            " |-- NOC: string (nullable = true)\n",
            " |-- Games: string (nullable = true)\n",
            " |-- Year: integer (nullable = true)\n",
            " |-- Season: string (nullable = true)\n",
            " |-- City: string (nullable = true)\n",
            " |-- Sport: string (nullable = true)\n",
            " |-- Event: string (nullable = true)\n",
            " |-- Medal: string (nullable = true)\n",
            "\n"
          ]
        }
      ]
    },
    {
      "cell_type": "code",
      "execution_count": 11,
      "metadata": {
        "id": "3_hMkh2sT8jm"
      },
      "outputs": [],
      "source": [
        "#Create a temporary view.\n",
        "df.createOrReplaceTempView('games')\n"
      ]
    },
    {
      "cell_type": "code",
      "execution_count": 12,
      "metadata": {
        "colab": {
          "base_uri": "https://localhost:8080/"
        },
        "id": "XUJVk6fQYTyy",
        "outputId": "ae083ee2-e2b1-4814-c9a3-5d6d1294649a"
      },
      "outputs": [
        {
          "output_type": "stream",
          "name": "stdout",
          "text": [
            "+---------------------+\n",
            "|count(DISTINCT Sport)|\n",
            "+---------------------+\n",
            "|                   34|\n",
            "+---------------------+\n",
            "\n"
          ]
        }
      ],
      "source": [
        "# Get the number of distinct sports played in 2016\n",
        "\n",
        "spark.sql(\"\"\"\n",
        "      SELECT COUNT(DISTINCT Sport)\n",
        "      FROM games\n",
        "      WHERE Year = 2016\n",
        "\"\"\").show()"
      ]
    },
    {
      "cell_type": "code",
      "execution_count": 13,
      "metadata": {
        "colab": {
          "base_uri": "https://localhost:8080/"
        },
        "id": "tXyNWna1ci1v",
        "outputId": "d60754c8-653b-412f-c7c6-ac30de97b6b0"
      },
      "outputs": [
        {
          "output_type": "stream",
          "name": "stdout",
          "text": [
            "+---------------------+\n",
            "|count(DISTINCT Sport)|\n",
            "+---------------------+\n",
            "|                   32|\n",
            "+---------------------+\n",
            "\n"
          ]
        }
      ],
      "source": [
        "# Get the number of distinct sports played in 2012\n",
        "\n",
        "spark.sql(\"\"\"\n",
        "      SELECT COUNT(DISTINCT Sport)\n",
        "      FROM games\n",
        "      WHERE Year = 2012\n",
        "\"\"\").show()"
      ]
    },
    {
      "cell_type": "code",
      "execution_count": 19,
      "metadata": {
        "colab": {
          "base_uri": "https://localhost:8080/"
        },
        "id": "gmuokNVHe_SH",
        "outputId": "1e8193d3-e680-43df-c411-d0e8239a083a"
      },
      "outputs": [
        {
          "output_type": "stream",
          "name": "stdout",
          "text": [
            "+------------+\n",
            "|       Sport|\n",
            "+------------+\n",
            "|        Golf|\n",
            "|Rugby Sevens|\n",
            "+------------+\n",
            "\n"
          ]
        }
      ],
      "source": [
        "# Write a subquery to get the distinct sports played in 2016 but not in 2012.\n",
        "\n",
        "spark.sql(\"\"\"\n",
        "      SELECT DISTINCT Sport\n",
        "      FROM games\n",
        "      WHERE Year = 2016\n",
        "      AND Sport NOT IN (\n",
        "        SELECT DISTINCT Sport\n",
        "        FROM games\n",
        "        WHERE Year = 2012\n",
        "      )\n",
        "\"\"\").show()\n"
      ]
    },
    {
      "cell_type": "code",
      "execution_count": 22,
      "metadata": {
        "colab": {
          "base_uri": "https://localhost:8080/"
        },
        "id": "Nclw6gcIdcAG",
        "outputId": "92f767bf-ed79-4c8f-8c1f-a0ec5d4d81f5"
      },
      "outputs": [
        {
          "output_type": "stream",
          "name": "stdout",
          "text": [
            "+------------+\n",
            "|       Sport|\n",
            "+------------+\n",
            "|        Golf|\n",
            "|Rugby Sevens|\n",
            "+------------+\n",
            "\n"
          ]
        }
      ],
      "source": [
        "# Another option could be using an EXCEPT\n",
        "spark.sql(\"\"\"\n",
        "      SELECT DISTINCT Sport\n",
        "      FROM games\n",
        "      WHERE Year = 2016\n",
        "      EXCEPT\n",
        "        SELECT DISTINCT Sport\n",
        "        FROM games\n",
        "        WHERE Year = 2012\n",
        "\n",
        "\"\"\").show()"
      ]
    },
    {
      "cell_type": "code",
      "execution_count": 23,
      "metadata": {
        "colab": {
          "base_uri": "https://localhost:8080/"
        },
        "id": "Y1edN4Jlfack",
        "outputId": "8a2344d8-8059-4276-8a56-762bf17bb4a0"
      },
      "outputs": [
        {
          "output_type": "stream",
          "name": "stdout",
          "text": [
            "+---------+\n",
            "|min(Year)|\n",
            "+---------+\n",
            "|     1896|\n",
            "+---------+\n",
            "\n"
          ]
        }
      ],
      "source": [
        "# Get the year of the earliest Olympics in our data\n",
        "\n",
        "spark.sql(\"\"\"\n",
        "      SELECT MIN(Year)\n",
        "      FROM games\n",
        "      \"\"\").show()\n"
      ]
    },
    {
      "cell_type": "code",
      "execution_count": 24,
      "metadata": {
        "colab": {
          "base_uri": "https://localhost:8080/"
        },
        "id": "av4Lem9VhKh8",
        "outputId": "0fe3a6a9-d34f-49bc-af02-df5ad3b6f312"
      },
      "outputs": [
        {
          "output_type": "stream",
          "name": "stdout",
          "text": [
            "+-------------+\n",
            "|        Sport|\n",
            "+-------------+\n",
            "|   Gymnastics|\n",
            "|       Tennis|\n",
            "|     Swimming|\n",
            "|    Athletics|\n",
            "|     Shooting|\n",
            "|    Wrestling|\n",
            "|Weightlifting|\n",
            "|      Cycling|\n",
            "|      Fencing|\n",
            "+-------------+\n",
            "\n"
          ]
        }
      ],
      "source": [
        "# Get the sports that were played in the earliest Olympic games in our data\n",
        "spark.sql(\"\"\"\n",
        "      SELECT DISTINCT Sport\n",
        "      FROM games\n",
        "      WHERE Year = 1896\n",
        "\"\"\").show()\n",
        "\n",
        "\n"
      ]
    },
    {
      "cell_type": "code",
      "execution_count": 25,
      "metadata": {
        "colab": {
          "base_uri": "https://localhost:8080/"
        },
        "id": "nUqJkqWzhZ67",
        "outputId": "2dcf5257-96bd-47de-a4cf-3eedd1fc6a90"
      },
      "outputs": [
        {
          "output_type": "stream",
          "name": "stdout",
          "text": [
            "+-------------+\n",
            "|        Sport|\n",
            "+-------------+\n",
            "|   Gymnastics|\n",
            "|       Tennis|\n",
            "|     Swimming|\n",
            "|    Athletics|\n",
            "|     Shooting|\n",
            "|    Wrestling|\n",
            "|Weightlifting|\n",
            "|      Cycling|\n",
            "|      Fencing|\n",
            "+-------------+\n",
            "\n"
          ]
        }
      ],
      "source": [
        "# Determine which sports were in both the 1896 Olympics and the 2016 Olympics\n",
        "spark.sql(\"\"\"\n",
        "      SELECT DISTINCT Sport\n",
        "      FROM games\n",
        "      WHERE Year = 2016\n",
        "      AND Sport IN (\n",
        "        SELECT DISTINCT Sport\n",
        "        FROM games\n",
        "        WHERE Year = 1896\n",
        "      )\n",
        "\"\"\").show()"
      ]
    },
    {
      "cell_type": "code",
      "execution_count": 39,
      "metadata": {
        "colab": {
          "base_uri": "https://localhost:8080/"
        },
        "id": "fUDuMDVjjQcy",
        "outputId": "579dc169-4f88-43a2-8af8-b92ce00009c5"
      },
      "outputs": [
        {
          "output_type": "stream",
          "name": "stdout",
          "text": [
            "+--------------------+----------+-----+\n",
            "|                Name|MedalCount|Medal|\n",
            "+--------------------+----------+-----+\n",
            "|Michael Fred Phel...|        23| Gold|\n",
            "|Raymond Clarence ...|        10| Gold|\n",
            "|Frederick Carlton...|         9| Gold|\n",
            "|Larysa Semenivna ...|         9| Gold|\n",
            "|   Mark Andrew Spitz|         9| Gold|\n",
            "+--------------------+----------+-----+\n",
            "\n"
          ]
        }
      ],
      "source": [
        "# Who are the top 5 Gold medal winners in the Olympics\n",
        "top_gold = spark.sql(\"\"\"\n",
        "    SELECT Name, COUNT(medal) AS MedalCount, FIRST(medal) AS Medal\n",
        "    FROM games\n",
        "    WHERE medal = 'Gold'\n",
        "    GROUP BY Name\n",
        "    ORDER BY MedalCount DESC\n",
        "    LIMIT 5\n",
        "\"\"\")\n",
        "\n",
        "top_gold.show()"
      ]
    },
    {
      "cell_type": "code",
      "execution_count": 34,
      "metadata": {
        "colab": {
          "base_uri": "https://localhost:8080/"
        },
        "id": "dCoDsurkP7Q3",
        "outputId": "5c2e36e2-0554-41c5-a6c2-84dd11fa7d8e"
      },
      "outputs": [
        {
          "output_type": "stream",
          "name": "stdout",
          "text": [
            "+--------------------+----------+------+\n",
            "|                Name|MedalCount| Medal|\n",
            "+--------------------+----------+------+\n",
            "|Aleksandr Nikolay...|         6|Silver|\n",
            "|Aleksandr Vladimi...|         6|Silver|\n",
            "|Mikhail Yakovlevi...|         6|Silver|\n",
            "|Shirley Frances B...|         6|Silver|\n",
            "|           Yang Yang|         6|Silver|\n",
            "+--------------------+----------+------+\n",
            "\n"
          ]
        }
      ],
      "source": [
        "# Who are the top 5 Silver medal winners\n",
        "spark.sql(\"\"\"\n",
        "    SELECT Name, COUNT(medal) AS MedalCount, FIRST(medal) AS Medal\n",
        "    FROM games\n",
        "    WHERE medal = 'Silver'\n",
        "    GROUP BY Name\n",
        "    ORDER BY MedalCount DESC\n",
        "    LIMIT 5\n",
        "\"\"\").show()"
      ]
    },
    {
      "cell_type": "code",
      "execution_count": 35,
      "metadata": {
        "colab": {
          "base_uri": "https://localhost:8080/"
        },
        "id": "GNdWgmuwRw8A",
        "outputId": "8783b098-1a8e-4ab6-b064-0b22dba2bd02"
      },
      "outputs": [
        {
          "output_type": "stream",
          "name": "stdout",
          "text": [
            "+--------------------+----------+------+\n",
            "|                Name|MedalCount| Medal|\n",
            "+--------------------+----------+------+\n",
            "|Aleksey Yuryevich...|         6|Bronze|\n",
            "|Merlene Joyce Ott...|         6|Bronze|\n",
            "|Franziska van Alm...|         6|Bronze|\n",
            "|Harri Tapani Kirv...|         6|Bronze|\n",
            "|Heikki Ilmari Sav...|         6|Bronze|\n",
            "+--------------------+----------+------+\n",
            "\n"
          ]
        }
      ],
      "source": [
        "# Who are the top 5 Bronze medal winners\n",
        "spark.sql(\"\"\"\n",
        "    SELECT Name, COUNT(medal) AS MedalCount, FIRST(medal) AS Medal\n",
        "    FROM games\n",
        "    WHERE medal = 'Bronze'\n",
        "    GROUP BY Name\n",
        "    ORDER BY MedalCount DESC\n",
        "    LIMIT 5\n",
        "\"\"\").show()"
      ]
    },
    {
      "cell_type": "code",
      "source": [
        "top_gold_pd = top_gold.toPandas()"
      ],
      "metadata": {
        "id": "JQHZVgp3i36Q"
      },
      "execution_count": 40,
      "outputs": []
    },
    {
      "cell_type": "code",
      "execution_count": 41,
      "metadata": {
        "id": "8M9WPLOiSOWm"
      },
      "outputs": [],
      "source": [
        "import pandas as pd\n",
        "\n",
        "\n",
        "\n",
        "top_gold_pd.to_csv('top5Gold.csv')\n"
      ]
    },
    {
      "cell_type": "code",
      "execution_count": null,
      "metadata": {
        "id": "JfaKSZ-PTTMR"
      },
      "outputs": [],
      "source": []
    }
  ],
  "metadata": {
    "colab": {
      "provenance": [],
      "include_colab_link": true
    },
    "kernelspec": {
      "display_name": "Python 3 (ipykernel)",
      "language": "python",
      "name": "python3"
    },
    "language_info": {
      "codemirror_mode": {
        "name": "ipython",
        "version": 3
      },
      "file_extension": ".py",
      "mimetype": "text/x-python",
      "name": "python",
      "nbconvert_exporter": "python",
      "pygments_lexer": "ipython3",
      "version": "3.10.4"
    }
  },
  "nbformat": 4,
  "nbformat_minor": 0
}