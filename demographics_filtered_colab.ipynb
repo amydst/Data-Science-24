{
  "cells": [
    {
      "cell_type": "markdown",
      "metadata": {
        "id": "view-in-github",
        "colab_type": "text"
      },
      "source": [
        "<a href=\"https://colab.research.google.com/github/amydst/Data-Science-24/blob/main/demographics_filtered_colab.ipynb\" target=\"_parent\"><img src=\"https://colab.research.google.com/assets/colab-badge.svg\" alt=\"Open In Colab\"/></a>"
      ]
    },
    {
      "cell_type": "code",
      "execution_count": 2,
      "metadata": {
        "id": "16mOrUT3u-BY",
        "colab": {
          "base_uri": "https://localhost:8080/"
        },
        "outputId": "b2013d04-58d9-4cb2-b77a-0ef065ef8db6"
      },
      "outputs": [
        {
          "output_type": "stream",
          "name": "stdout",
          "text": [
            "\r0% [Working]\r            \rHit:1 http://security.ubuntu.com/ubuntu jammy-security InRelease\n",
            "\r0% [Connecting to archive.ubuntu.com (185.125.190.81)] [Connected to cloud.r-project.org (3.161.136.\r                                                                                                    \rHit:2 https://cloud.r-project.org/bin/linux/ubuntu jammy-cran40/ InRelease\n",
            "\r0% [Connecting to archive.ubuntu.com (185.125.190.81)] [Connected to r2u.stat.illinois.edu (192.17.1\r                                                                                                    \rHit:3 https://developer.download.nvidia.com/compute/cuda/repos/ubuntu2204/x86_64  InRelease\n",
            "\r0% [Waiting for headers] [Waiting for headers] [Connected to ppa.launchpadcontent.net (185.125.190.8\r                                                                                                    \rHit:4 http://archive.ubuntu.com/ubuntu jammy InRelease\n",
            "Hit:5 https://r2u.stat.illinois.edu/ubuntu jammy InRelease\n",
            "Hit:6 http://archive.ubuntu.com/ubuntu jammy-updates InRelease\n",
            "Hit:7 http://archive.ubuntu.com/ubuntu jammy-backports InRelease\n",
            "Hit:8 https://ppa.launchpadcontent.net/deadsnakes/ppa/ubuntu jammy InRelease\n",
            "Hit:9 https://ppa.launchpadcontent.net/graphics-drivers/ppa/ubuntu jammy InRelease\n",
            "Hit:10 https://ppa.launchpadcontent.net/ubuntugis/ppa/ubuntu jammy InRelease\n",
            "Reading package lists... Done\n",
            "W: Skipping acquire of configured file 'main/source/Sources' as repository 'https://r2u.stat.illinois.edu/ubuntu jammy InRelease' does not seem to provide it (sources.list entry misspelt?)\n"
          ]
        }
      ],
      "source": [
        "import os\n",
        "# Find the latest version of spark 3.x  from https://downloads.apache.org/spark/ and enter as the spark version\n",
        "# For example:\n",
        "# spark_version = 'spark-3.5.1'\n",
        "spark_version = 'spark-3.5.4'\n",
        "os.environ['SPARK_VERSION']=spark_version\n",
        "\n",
        "# Install Spark and Java\n",
        "!apt-get update\n",
        "!apt-get install openjdk-11-jdk-headless -qq > /dev/null\n",
        "!wget -q https://downloads.apache.org/spark/$SPARK_VERSION/$SPARK_VERSION-bin-hadoop3.tgz\n",
        "!tar xf $SPARK_VERSION-bin-hadoop3.tgz\n",
        "!pip install -q findspark\n",
        "\n",
        "# Set Environment Variables\n",
        "os.environ[\"JAVA_HOME\"] = \"/usr/lib/jvm/java-11-openjdk-amd64\"\n",
        "os.environ[\"SPARK_HOME\"] = f\"/content/{spark_version}-bin-hadoop3\"\n",
        "\n",
        "# Start a SparkSession\n",
        "import findspark\n",
        "findspark.init()"
      ]
    },
    {
      "cell_type": "code",
      "execution_count": 3,
      "metadata": {
        "id": "Wa-6wjlsRBIo"
      },
      "outputs": [],
      "source": [
        "# Start Spark session\n",
        "from pyspark.sql import SparkSession\n",
        "spark = SparkSession.builder.appName(\"demographicsFilter\").getOrCreate()"
      ]
    },
    {
      "cell_type": "code",
      "execution_count": 10,
      "metadata": {
        "colab": {
          "base_uri": "https://localhost:8080/"
        },
        "id": "FcKW2EOginzm",
        "outputId": "2b0092fb-d32a-463a-cec8-2c096677b5c2"
      },
      "outputs": [
        {
          "output_type": "stream",
          "name": "stdout",
          "text": [
            "+---+-----------------+---+--------+---------+--------+--------------------+---------------+------+--------------------+\n",
            "| id|             name|age|height_m|weight_kg|children|          occupation|academic_degree|salary|            location|\n",
            "+---+-----------------+---+--------+---------+--------+--------------------+---------------+------+--------------------+\n",
            "|  1|    Glad Gavrieli| 38|    1.52|       74|       0|Computer Systems ...|       Bachelor|    78|           Louisiana|\n",
            "|  2|  Henrieta Fittes| 34|    1.72|       39|       4|             Teacher|         Master|    44|            Illinois|\n",
            "|  3|   Peyton Dulanty| 24|     1.8|       47|       5|Senior Quality En...|            PhD|    44|      North Carolina|\n",
            "|  4|     Denna Morgen| 48|    1.81|       71|       5|   Account Executive|         Master|    81|          California|\n",
            "|  5|    Camella Izaks| 34|    1.65|       60|       1|   Director of Sales|            PhD|    76|                Ohio|\n",
            "|  6|     Shara Esposi| 49|     1.5|       52|       2|     Sales Associate|         Master|    68|            Virginia|\n",
            "|  7|Saunderson Gudgen| 64|    1.93|       47|       0|Sales Representative|         Master|    85|            New York|\n",
            "|  8|Aldrich Rosendorf| 42|    1.77|       66|       0|        Developer II|            PhD|    84|District of Columbia|\n",
            "|  9| Edlin Washington| 50|    1.74|       52|       4|     Design Engineer|         Master|    88|              Oregon|\n",
            "| 10| Anders Penwright| 55|    1.98|       90|       2|     Project Manager|       Bachelor|   116|             Georgia|\n",
            "| 11|   Ruthie Cubbini| 67|    1.52|       55|       4|     Data Coordiator|            PhD|    51|District of Columbia|\n",
            "| 12|  Juliet Harbidge| 66|    1.61|       49|       2|             Actuary|            PhD|    66|         Mississippi|\n",
            "| 13|  Jeannine Kelner| 30|     1.8|       81|       1|       Programmer II|       Bachelor|    90|              Hawaii|\n",
            "| 14|  Roi Gristhwaite| 66|    1.86|       90|       1|    Product Engineer|       Bachelor|    40|           Tennessee|\n",
            "| 15|      Brant Stark| 58|    1.94|       53|       4|Sales Representative|       Bachelor|    96|      North Carolina|\n",
            "| 16|   Donny Rankling| 26|    1.51|       39|       1|Physical Therapy ...|       Bachelor|   116|            Virginia|\n",
            "| 17|     Dov Gavaghan| 27|    1.58|       68|       5|Computer Systems ...|       Bachelor|    74|                Utah|\n",
            "| 18|    Rosanne Wreak| 37|    1.76|       81|       2|Payment Adjustmen...|         Master|   103|             Florida|\n",
            "| 19|    Belva Spraggs| 50|    1.65|       80|       2|             Teacher|       Bachelor|    46|             Georgia|\n",
            "| 20|      Welch Lease| 21|    1.57|       79|       4|Mechanical System...|         Master|   114|       Massachusetts|\n",
            "+---+-----------------+---+--------+---------+--------+--------------------+---------------+------+--------------------+\n",
            "only showing top 20 rows\n",
            "\n"
          ]
        }
      ],
      "source": [
        "# Read in data from S3 Buckets\n",
        "from pyspark import SparkFiles\n",
        "url = \"https://2u-data-curriculum-team.s3.amazonaws.com/dataviz-classroom/v1.2/22-big-data/1/demographics.csv\"\n",
        "spark.sparkContext.addFile(url)\n",
        "df = spark.read.option('header', 'true').csv(SparkFiles.get(\"demographics.csv\"), inferSchema=True, sep=',')\n",
        "\n",
        "# Show DataFrame\n",
        "df.show()"
      ]
    },
    {
      "cell_type": "code",
      "execution_count": 11,
      "metadata": {
        "colab": {
          "base_uri": "https://localhost:8080/"
        },
        "id": "6oLG3XBTinzt",
        "outputId": "cbd29fb1-a22b-4839-86b0-9f47e6e19afe"
      },
      "outputs": [
        {
          "output_type": "stream",
          "name": "stdout",
          "text": [
            "+---+-----------+---+--------+---------+--------+-----------------+---------------+------+--------+\n",
            "| id|       name|age|height_m|weight_kg|children|       occupation|academic_degree|salary|location|\n",
            "+---+-----------+---+--------+---------+--------+-----------------+---------------+------+--------+\n",
            "|126|Dede Spritt| 26|    1.87|       78|       4|Chemical Engineer|            PhD|   120|  Nevada|\n",
            "+---+-----------+---+--------+---------+--------+-----------------+---------------+------+--------+\n",
            "only showing top 1 row\n",
            "\n"
          ]
        }
      ],
      "source": [
        "# What occupation had the highest salary?\n",
        "\n",
        "df.orderBy(df[\"salary\"].desc()).show(1)\n"
      ]
    },
    {
      "cell_type": "code",
      "source": [
        "df.printSchema()"
      ],
      "metadata": {
        "colab": {
          "base_uri": "https://localhost:8080/"
        },
        "id": "B63kkVf6-3Nk",
        "outputId": "94852c86-fd34-444e-c674-ea67a982815d"
      },
      "execution_count": 12,
      "outputs": [
        {
          "output_type": "stream",
          "name": "stdout",
          "text": [
            "root\n",
            " |-- id: integer (nullable = true)\n",
            " |-- name: string (nullable = true)\n",
            " |-- age: integer (nullable = true)\n",
            " |-- height_m: double (nullable = true)\n",
            " |-- weight_kg: integer (nullable = true)\n",
            " |-- children: integer (nullable = true)\n",
            " |-- occupation: string (nullable = true)\n",
            " |-- academic_degree: string (nullable = true)\n",
            " |-- salary: integer (nullable = true)\n",
            " |-- location: string (nullable = true)\n",
            "\n"
          ]
        }
      ]
    },
    {
      "cell_type": "code",
      "execution_count": 14,
      "metadata": {
        "colab": {
          "base_uri": "https://localhost:8080/"
        },
        "id": "QW_-igVminzx",
        "outputId": "bcf492dd-4c9a-4c58-ef04-a29a03420dad"
      },
      "outputs": [
        {
          "output_type": "stream",
          "name": "stdout",
          "text": [
            "+----------------+------+\n",
            "|      occupation|salary|\n",
            "+----------------+------+\n",
            "|Product Engineer|    40|\n",
            "+----------------+------+\n",
            "only showing top 1 row\n",
            "\n"
          ]
        }
      ],
      "source": [
        "# What occupation had the lowest salary?\n",
        "df.orderBy(df[\"salary\"]).select(['occupation','salary']).show(1)"
      ]
    },
    {
      "cell_type": "code",
      "execution_count": 15,
      "metadata": {
        "colab": {
          "base_uri": "https://localhost:8080/"
        },
        "id": "WMhoscrSinz1",
        "outputId": "aca109f4-6f40-4ff4-e529-2cd8119b1010"
      },
      "outputs": [
        {
          "output_type": "stream",
          "name": "stdout",
          "text": [
            "+-----------+\n",
            "|avg(salary)|\n",
            "+-----------+\n",
            "|     79.475|\n",
            "+-----------+\n",
            "\n"
          ]
        }
      ],
      "source": [
        "# What is the mean salary of this dataset?\n",
        "from pyspark.sql.functions import avg\n",
        "df.select(avg(\"salary\")).show()"
      ]
    },
    {
      "cell_type": "code",
      "execution_count": 16,
      "metadata": {
        "colab": {
          "base_uri": "https://localhost:8080/"
        },
        "id": "H2sxkEBpinz5",
        "outputId": "70413bf4-ea09-42c1-98ce-ab3b27f025ac"
      },
      "outputs": [
        {
          "output_type": "stream",
          "name": "stdout",
          "text": [
            "+-----------+-----------+\n",
            "|max(salary)|min(salary)|\n",
            "+-----------+-----------+\n",
            "|        120|         40|\n",
            "+-----------+-----------+\n",
            "\n"
          ]
        }
      ],
      "source": [
        "# What is the max and min of the Salary column?\n",
        "from pyspark.sql.functions import max, min\n",
        "df.select(max(\"salary\"), min(\"salary\")).show()"
      ]
    },
    {
      "cell_type": "code",
      "execution_count": 20,
      "metadata": {
        "colab": {
          "base_uri": "https://localhost:8080/"
        },
        "id": "q76ZPaPuinz9",
        "outputId": "a631a8e4-e427-4a33-fff5-2eebaaec714e"
      },
      "outputs": [
        {
          "output_type": "stream",
          "name": "stdout",
          "text": [
            "+--------------------+\n",
            "|          occupation|\n",
            "+--------------------+\n",
            "|   Chemical Engineer|\n",
            "| Assistant Professor|\n",
            "|    Product Engineer|\n",
            "| Electrical Engineer|\n",
            "|    Junior Executive|\n",
            "|        Food Chemist|\n",
            "|  Biostatistician IV|\n",
            "|     Statistician IV|\n",
            "|Computer Systems ...|\n",
            "|    Graphic Designer|\n",
            "+--------------------+\n",
            "only showing top 10 rows\n",
            "\n",
            "+---+-----------+---+--------+---------+--------+-----------------+---------------+------+--------+\n",
            "| id|       name|age|height_m|weight_kg|children|       occupation|academic_degree|salary|location|\n",
            "+---+-----------+---+--------+---------+--------+-----------------+---------------+------+--------+\n",
            "|126|Dede Spritt| 26|    1.87|       78|       4|Chemical Engineer|            PhD|   120|  Nevada|\n",
            "+---+-----------+---+--------+---------+--------+-----------------+---------------+------+--------+\n",
            "only showing top 1 row\n",
            "\n"
          ]
        }
      ],
      "source": [
        "# Show all of the occupations where salaries were above 80k\n",
        "from pyspark.sql.functions import count\n",
        "df.filter('salary > 80').orderBy((df['salary'].desc())).select('occupation').show(10)\n",
        "\n",
        "\n",
        "df.orderBy(df[\"salary\"].desc()).show(1)"
      ]
    },
    {
      "cell_type": "code",
      "execution_count": null,
      "metadata": {
        "colab": {
          "base_uri": "https://localhost:8080/"
        },
        "id": "dRL8cekFin0C",
        "outputId": "3e92fff0-2014-4dc4-a182-ae3c024f7388"
      },
      "outputs": [
        {
          "name": "stdout",
          "output_type": "stream",
          "text": [
            "+---------------+------------------+------------------+\n",
            "|academic_degree|          avg(age)|     avg(height_m)|\n",
            "+---------------+------------------+------------------+\n",
            "|            PhD| 42.87818696883853|1.7537393767705372|\n",
            "|         Master|42.105095541401276|1.7606050955414014|\n",
            "|       Bachelor| 43.85585585585586|1.7371771771771771|\n",
            "+---------------+------------------+------------------+\n",
            "\n"
          ]
        }
      ],
      "source": [
        "# BONUS\n",
        "# What is the average age and height for each academic degree type?\n",
        "# HINT: You will need to use `groupby` to solve this\n",
        "\n",
        "avg_df = df.groupBy(\"academic_degree\").avg()\n",
        "avg_df.select(\"academic_degree\", \"avg(age)\", \"avg(height_meter)\").show()"
      ]
    },
    {
      "cell_type": "code",
      "execution_count": null,
      "metadata": {
        "id": "CzHdRP8Yu-Bd"
      },
      "outputs": [],
      "source": []
    }
  ],
  "metadata": {
    "colab": {
      "provenance": [],
      "include_colab_link": true
    },
    "kernel_info": {
      "name": "python3"
    },
    "kernelspec": {
      "display_name": "Python 3 (ipykernel)",
      "language": "python",
      "name": "python3"
    },
    "language_info": {
      "codemirror_mode": {
        "name": "ipython",
        "version": 3
      },
      "file_extension": ".py",
      "mimetype": "text/x-python",
      "name": "python",
      "nbconvert_exporter": "python",
      "pygments_lexer": "ipython3",
      "version": "3.10.4"
    },
    "nteract": {
      "version": "0.10.0"
    },
    "varInspector": {
      "cols": {
        "lenName": 16,
        "lenType": 16,
        "lenVar": 40
      },
      "kernels_config": {
        "python": {
          "delete_cmd_postfix": "",
          "delete_cmd_prefix": "del ",
          "library": "var_list.py",
          "varRefreshCmd": "print(var_dic_list())"
        },
        "r": {
          "delete_cmd_postfix": ") ",
          "delete_cmd_prefix": "rm(",
          "library": "var_list.r",
          "varRefreshCmd": "cat(var_dic_list()) "
        }
      },
      "types_to_exclude": [
        "module",
        "function",
        "builtin_function_or_method",
        "instance",
        "_Feature"
      ],
      "window_display": false
    }
  },
  "nbformat": 4,
  "nbformat_minor": 0
}